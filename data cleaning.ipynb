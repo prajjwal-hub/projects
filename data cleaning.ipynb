{
 "cells": [
  {
   "cell_type": "code",
   "execution_count": 1,
   "id": "1f96a89e",
   "metadata": {},
   "outputs": [],
   "source": [
    "import pandas as pd\n",
    "import numpy as np"
   ]
  },
  {
   "cell_type": "code",
   "execution_count": 2,
   "id": "38a94f77",
   "metadata": {},
   "outputs": [],
   "source": [
    "df = pd.read_csv('British_airways_reviews.csv')"
   ]
  },
  {
   "cell_type": "code",
   "execution_count": 3,
   "id": "af91eed8",
   "metadata": {},
   "outputs": [],
   "source": [
    "#creating copy of collected data\n",
    "data = df.copy()"
   ]
  },
  {
   "cell_type": "markdown",
   "id": "b6c7156b",
   "metadata": {},
   "source": [
    "# Cleaning/Fromat date"
   ]
  },
  {
   "cell_type": "code",
   "execution_count": 4,
   "id": "7099ff88",
   "metadata": {},
   "outputs": [],
   "source": [
    "# converting the date to datetime format\n",
    "data['date'] = pd.to_datetime(df['date'])"
   ]
  },
  {
   "cell_type": "code",
   "execution_count": 5,
   "id": "0f79ae11",
   "metadata": {},
   "outputs": [
    {
     "data": {
      "text/plain": [
       "0   2023-07-21\n",
       "1   2023-07-21\n",
       "2   2023-07-20\n",
       "3   2023-07-20\n",
       "4   2023-07-20\n",
       "Name: date, dtype: datetime64[ns]"
      ]
     },
     "execution_count": 5,
     "metadata": {},
     "output_type": "execute_result"
    }
   ],
   "source": [
    "data['date'].head()"
   ]
  },
  {
   "cell_type": "markdown",
   "id": "737a956e",
   "metadata": {},
   "source": [
    "# Cleaning Reviews"
   ]
  },
  {
   "cell_type": "code",
   "execution_count": 6,
   "id": "2b8255d1",
   "metadata": {},
   "outputs": [
    {
     "name": "stderr",
     "output_type": "stream",
     "text": [
      "[nltk_data] Downloading package punkt to\n",
      "[nltk_data]     C:\\Users\\Hello\\AppData\\Roaming\\nltk_data...\n",
      "[nltk_data]   Package punkt is already up-to-date!\n",
      "[nltk_data] Downloading package stopwords to\n",
      "[nltk_data]     C:\\Users\\Hello\\AppData\\Roaming\\nltk_data...\n",
      "[nltk_data]   Package stopwords is already up-to-date!\n",
      "[nltk_data] Downloading package wordnet to\n",
      "[nltk_data]     C:\\Users\\Hello\\AppData\\Roaming\\nltk_data...\n",
      "[nltk_data]   Package wordnet is already up-to-date!\n",
      "[nltk_data] Downloading package omw-1.4 to\n",
      "[nltk_data]     C:\\Users\\Hello\\AppData\\Roaming\\nltk_data...\n",
      "[nltk_data]   Package omw-1.4 is already up-to-date!\n"
     ]
    }
   ],
   "source": [
    "import string\n",
    "import nltk\n",
    "\n",
    "from nltk.tokenize import word_tokenize\n",
    "nltk.download('punkt')\n",
    "\n",
    "from nltk.corpus import stopwords\n",
    "nltk.download('stopwords')\n",
    "\n",
    "from nltk.stem import WordNetLemmatizer\n",
    "nltk.download('wordnet')\n",
    "nltk.download('omw-1.4')\n",
    "\n",
    "# function which remove punctuations, small case it, peform tokenization and lemmatization and join it.\n",
    "def cleaning(sent):\n",
    "    sent = sent.strip('✅ Trip Verified |')\n",
    "    sent = sent.strip('Not Verified |')\n",
    "    sent = sent.lower()\n",
    "    exclude = string.punctuation\n",
    "    sent = sent.translate(str.maketrans('','',exclude))\n",
    "    tkns = [i for i in word_tokenize(sent)]\n",
    "    std = stopwords.words('english')\n",
    "    stwd = [i for i in tkns if i not in std]\n",
    "    lemma = WordNetLemmatizer()\n",
    "    ftkns = [lemma.lemmatize(i) for i in stwd]\n",
    "    return ' '.join(ftkns)\n",
    "\n",
    "# adding new column for cleaned reviews\n",
    "df['c_reviews'] = df['reviews'].apply(cleaning)\n"
   ]
  },
  {
   "cell_type": "code",
   "execution_count": 7,
   "id": "2251d5cb",
   "metadata": {},
   "outputs": [
    {
     "data": {
      "text/html": [
       "<div>\n",
       "<style scoped>\n",
       "    .dataframe tbody tr th:only-of-type {\n",
       "        vertical-align: middle;\n",
       "    }\n",
       "\n",
       "    .dataframe tbody tr th {\n",
       "        vertical-align: top;\n",
       "    }\n",
       "\n",
       "    .dataframe thead th {\n",
       "        text-align: right;\n",
       "    }\n",
       "</style>\n",
       "<table border=\"1\" class=\"dataframe\">\n",
       "  <thead>\n",
       "    <tr style=\"text-align: right;\">\n",
       "      <th></th>\n",
       "      <th>Unnamed: 0</th>\n",
       "      <th>date</th>\n",
       "      <th>reviews</th>\n",
       "      <th>u_rating</th>\n",
       "      <th>country</th>\n",
       "      <th>c_reviews</th>\n",
       "    </tr>\n",
       "  </thead>\n",
       "  <tbody>\n",
       "    <tr>\n",
       "      <th>0</th>\n",
       "      <td>0</td>\n",
       "      <td>21st July 2023</td>\n",
       "      <td>✅ Trip Verified | A simple story with an unfor...</td>\n",
       "      <td>1.0</td>\n",
       "      <td>Germany</td>\n",
       "      <td>simple story unfortunate outcome really could ...</td>\n",
       "    </tr>\n",
       "    <tr>\n",
       "      <th>1</th>\n",
       "      <td>1</td>\n",
       "      <td>21st July 2023</td>\n",
       "      <td>✅ Trip Verified |  Flight was delayed due to t...</td>\n",
       "      <td>4.0</td>\n",
       "      <td>United Kingdom</td>\n",
       "      <td>flight delayed due inbound flight arriving lat...</td>\n",
       "    </tr>\n",
       "    <tr>\n",
       "      <th>2</th>\n",
       "      <td>2</td>\n",
       "      <td>20th July 2023</td>\n",
       "      <td>Not Verified |  Fast and friendly check in (to...</td>\n",
       "      <td>8.0</td>\n",
       "      <td>United Kingdom</td>\n",
       "      <td>fast friendly check total contrast gatwick con...</td>\n",
       "    </tr>\n",
       "    <tr>\n",
       "      <th>3</th>\n",
       "      <td>3</td>\n",
       "      <td>20th July 2023</td>\n",
       "      <td>✅ Trip Verified |  I don't understand why Brit...</td>\n",
       "      <td>2.0</td>\n",
       "      <td>United Kingdom</td>\n",
       "      <td>dont understand british airway classified 4 st...</td>\n",
       "    </tr>\n",
       "    <tr>\n",
       "      <th>4</th>\n",
       "      <td>4</td>\n",
       "      <td>20th July 2023</td>\n",
       "      <td>Not Verified |  I'm sure that BA have graduall...</td>\n",
       "      <td>2.0</td>\n",
       "      <td>United Kingdom</td>\n",
       "      <td>im sure ba gradually made economy experience b...</td>\n",
       "    </tr>\n",
       "  </tbody>\n",
       "</table>\n",
       "</div>"
      ],
      "text/plain": [
       "   Unnamed: 0            date  \\\n",
       "0           0  21st July 2023   \n",
       "1           1  21st July 2023   \n",
       "2           2  20th July 2023   \n",
       "3           3  20th July 2023   \n",
       "4           4  20th July 2023   \n",
       "\n",
       "                                             reviews  u_rating  \\\n",
       "0  ✅ Trip Verified | A simple story with an unfor...       1.0   \n",
       "1  ✅ Trip Verified |  Flight was delayed due to t...       4.0   \n",
       "2  Not Verified |  Fast and friendly check in (to...       8.0   \n",
       "3  ✅ Trip Verified |  I don't understand why Brit...       2.0   \n",
       "4  Not Verified |  I'm sure that BA have graduall...       2.0   \n",
       "\n",
       "          country                                          c_reviews  \n",
       "0         Germany  simple story unfortunate outcome really could ...  \n",
       "1  United Kingdom  flight delayed due inbound flight arriving lat...  \n",
       "2  United Kingdom  fast friendly check total contrast gatwick con...  \n",
       "3  United Kingdom  dont understand british airway classified 4 st...  \n",
       "4  United Kingdom  im sure ba gradually made economy experience b...  "
      ]
     },
     "execution_count": 7,
     "metadata": {},
     "output_type": "execute_result"
    }
   ],
   "source": [
    "df.head()"
   ]
  },
  {
   "cell_type": "markdown",
   "id": "5cd27ff1",
   "metadata": {},
   "source": [
    "# checking for null values"
   ]
  },
  {
   "cell_type": "code",
   "execution_count": 8,
   "id": "a8740547",
   "metadata": {},
   "outputs": [
    {
     "data": {
      "text/plain": [
       "Unnamed: 0    0\n",
       "date          0\n",
       "reviews       0\n",
       "u_rating      5\n",
       "country       2\n",
       "c_reviews     0\n",
       "dtype: int64"
      ]
     },
     "execution_count": 8,
     "metadata": {},
     "output_type": "execute_result"
    }
   ],
   "source": [
    "df.isnull().sum()"
   ]
  },
  {
   "cell_type": "code",
   "execution_count": 9,
   "id": "94591f13",
   "metadata": {},
   "outputs": [],
   "source": [
    "#dropping null values\n",
    "df.dropna(inplace=True)"
   ]
  },
  {
   "cell_type": "code",
   "execution_count": 10,
   "id": "6a9cf656",
   "metadata": {},
   "outputs": [
    {
     "data": {
      "text/plain": [
       "Unnamed: 0    0\n",
       "date          0\n",
       "reviews       0\n",
       "u_rating      0\n",
       "country       0\n",
       "c_reviews     0\n",
       "dtype: int64"
      ]
     },
     "execution_count": 10,
     "metadata": {},
     "output_type": "execute_result"
    }
   ],
   "source": [
    "df.isnull().sum()"
   ]
  },
  {
   "cell_type": "code",
   "execution_count": null,
   "id": "65d74885",
   "metadata": {},
   "outputs": [],
   "source": [
    "df.to_csv('')"
   ]
  }
 ],
 "metadata": {
  "kernelspec": {
   "display_name": "Python 3 (ipykernel)",
   "language": "python",
   "name": "python3"
  },
  "language_info": {
   "codemirror_mode": {
    "name": "ipython",
    "version": 3
   },
   "file_extension": ".py",
   "mimetype": "text/x-python",
   "name": "python",
   "nbconvert_exporter": "python",
   "pygments_lexer": "ipython3",
   "version": "3.9.13"
  }
 },
 "nbformat": 4,
 "nbformat_minor": 5
}
