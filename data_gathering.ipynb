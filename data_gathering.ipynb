{
 "cells": [
  {
   "cell_type": "code",
   "execution_count": 1,
   "id": "3eec8f98",
   "metadata": {},
   "outputs": [],
   "source": [
    "import requests\n",
    "from bs4 import BeautifulSoup\n",
    "import pandas as pd\n",
    "import numpy as np"
   ]
  },
  {
   "cell_type": "code",
   "execution_count": 2,
   "id": "38814251",
   "metadata": {},
   "outputs": [],
   "source": [
    "#create an empty list to collect all reviews\n",
    "reviews  = []\n",
    "\n",
    "#create an empty list to collect rating \n",
    "rating = []\n",
    "\n",
    "#create an empty list to collect date\n",
    "date = []\n",
    "\n",
    "#create an empty list to collect country the reviewer is from\n",
    "country = []"
   ]
  },
  {
   "cell_type": "code",
   "execution_count": 3,
   "id": "e4955c78",
   "metadata": {},
   "outputs": [
    {
     "name": "stdout",
     "output_type": "stream",
     "text": [
      "Error on page 31\n",
      "Error on page 32\n",
      "Error on page 32\n",
      "Error on page 35\n",
      "Error on page 35\n"
     ]
    }
   ],
   "source": [
    "base_url = \"https://www.airlinequality.com/airline-reviews/british-airways\"\n",
    "pages = 50\n",
    "page_size = 100\n",
    "\n",
    "for i in range(1, pages + 1):\n",
    "\n",
    "    # Create URL to collect links from paginated data\n",
    "    url = f\"{base_url}/page/{i}/?sortby=post_date%3ADesc&pagesize={page_size}\"\n",
    "\n",
    "    # Collect HTML data from this page\n",
    "    response = requests.get(url)\n",
    "\n",
    "    # Parse content\n",
    "    content = response.content\n",
    "    parsed_content = BeautifulSoup(content, 'html.parser')\n",
    "    \n",
    "    #reviews\n",
    "    for para in parsed_content.find_all(\"div\", {\"class\": \"text_content\"}):\n",
    "        reviews.append(para.get_text())\n",
    "        \n",
    "    #Dates\n",
    "    for item in parsed_content.find_all(\"time\"):\n",
    "        date.append(item.text)\n",
    "        \n",
    "    #Ratings\n",
    "    for item in parsed_content.find_all(\"div\", class_ = \"rating-10\"):\n",
    "        try:\n",
    "            rating.append(item.span.text)\n",
    "        except:\n",
    "            print(f\"Error on page {i}\")\n",
    "            rating.append(\"None\")\n",
    "    \n",
    "    #country\n",
    "    for item in parsed_content.find_all(\"h3\"):\n",
    "        country.append(item.span.next_sibling.text.strip(\" ()\"))\n",
    "    \n",
    "    "
   ]
  },
  {
   "cell_type": "markdown",
   "id": "9c4a2a1a",
   "metadata": {},
   "source": [
    "# Lets's check size of collected data"
   ]
  },
  {
   "cell_type": "code",
   "execution_count": 4,
   "id": "7f72f336",
   "metadata": {},
   "outputs": [
    {
     "data": {
      "text/plain": [
       "3657"
      ]
     },
     "execution_count": 4,
     "metadata": {},
     "output_type": "execute_result"
    }
   ],
   "source": [
    "len(rating)"
   ]
  },
  {
   "cell_type": "markdown",
   "id": "3d86daf1",
   "metadata": {},
   "source": [
    "Their are 50 extra rating "
   ]
  },
  {
   "cell_type": "code",
   "execution_count": 5,
   "id": "7682675b",
   "metadata": {},
   "outputs": [
    {
     "data": {
      "text/plain": [
       "3607"
      ]
     },
     "execution_count": 5,
     "metadata": {},
     "output_type": "execute_result"
    }
   ],
   "source": [
    "len(reviews)"
   ]
  },
  {
   "cell_type": "code",
   "execution_count": 6,
   "id": "490cfc7b",
   "metadata": {},
   "outputs": [
    {
     "data": {
      "text/plain": [
       "3607"
      ]
     },
     "execution_count": 6,
     "metadata": {},
     "output_type": "execute_result"
    }
   ],
   "source": [
    "len(date)"
   ]
  },
  {
   "cell_type": "code",
   "execution_count": 7,
   "id": "be046ad2",
   "metadata": {},
   "outputs": [
    {
     "data": {
      "text/plain": [
       "3607"
      ]
     },
     "execution_count": 7,
     "metadata": {},
     "output_type": "execute_result"
    }
   ],
   "source": [
    "len(country)"
   ]
  },
  {
   "cell_type": "code",
   "execution_count": 9,
   "id": "3b6dabcb",
   "metadata": {},
   "outputs": [],
   "source": [
    "#removing all the extra ratings\n",
    "for i in range(50):\n",
    "    rating.remove('\\n\\t\\t\\t\\t\\t\\t\\t\\t\\t\\t\\t\\t\\t5')"
   ]
  },
  {
   "cell_type": "code",
   "execution_count": 10,
   "id": "56907c58",
   "metadata": {},
   "outputs": [
    {
     "data": {
      "text/plain": [
       "3607"
      ]
     },
     "execution_count": 10,
     "metadata": {},
     "output_type": "execute_result"
    }
   ],
   "source": [
    "len(rating)"
   ]
  },
  {
   "cell_type": "code",
   "execution_count": 14,
   "id": "50682936",
   "metadata": {},
   "outputs": [],
   "source": [
    "df = pd.DataFrame({'date':date,'reviews':reviews,'u_rating':rating,'country':country})"
   ]
  },
  {
   "cell_type": "code",
   "execution_count": 15,
   "id": "98ca6012",
   "metadata": {},
   "outputs": [
    {
     "name": "stdout",
     "output_type": "stream",
     "text": [
      "<class 'pandas.core.frame.DataFrame'>\n",
      "RangeIndex: 3607 entries, 0 to 3606\n",
      "Data columns (total 4 columns):\n",
      " #   Column    Non-Null Count  Dtype \n",
      "---  ------    --------------  ----- \n",
      " 0   date      3607 non-null   object\n",
      " 1   reviews   3607 non-null   object\n",
      " 2   u_rating  3602 non-null   object\n",
      " 3   country   3607 non-null   object\n",
      "dtypes: object(4)\n",
      "memory usage: 112.8+ KB\n"
     ]
    }
   ],
   "source": [
    "df.info()"
   ]
  },
  {
   "cell_type": "code",
   "execution_count": 18,
   "id": "fd23a8ee",
   "metadata": {},
   "outputs": [
    {
     "data": {
      "text/html": [
       "<div>\n",
       "<style scoped>\n",
       "    .dataframe tbody tr th:only-of-type {\n",
       "        vertical-align: middle;\n",
       "    }\n",
       "\n",
       "    .dataframe tbody tr th {\n",
       "        vertical-align: top;\n",
       "    }\n",
       "\n",
       "    .dataframe thead th {\n",
       "        text-align: right;\n",
       "    }\n",
       "</style>\n",
       "<table border=\"1\" class=\"dataframe\">\n",
       "  <thead>\n",
       "    <tr style=\"text-align: right;\">\n",
       "      <th></th>\n",
       "      <th>date</th>\n",
       "      <th>reviews</th>\n",
       "      <th>u_rating</th>\n",
       "      <th>country</th>\n",
       "    </tr>\n",
       "  </thead>\n",
       "  <tbody>\n",
       "    <tr>\n",
       "      <th>0</th>\n",
       "      <td>21st July 2023</td>\n",
       "      <td>✅ Trip Verified | A simple story with an unfor...</td>\n",
       "      <td>1</td>\n",
       "      <td>Germany</td>\n",
       "    </tr>\n",
       "    <tr>\n",
       "      <th>1</th>\n",
       "      <td>21st July 2023</td>\n",
       "      <td>✅ Trip Verified |  Flight was delayed due to t...</td>\n",
       "      <td>4</td>\n",
       "      <td>United Kingdom</td>\n",
       "    </tr>\n",
       "    <tr>\n",
       "      <th>2</th>\n",
       "      <td>20th July 2023</td>\n",
       "      <td>Not Verified |  Fast and friendly check in (to...</td>\n",
       "      <td>8</td>\n",
       "      <td>United Kingdom</td>\n",
       "    </tr>\n",
       "    <tr>\n",
       "      <th>3</th>\n",
       "      <td>20th July 2023</td>\n",
       "      <td>✅ Trip Verified |  I don't understand why Brit...</td>\n",
       "      <td>2</td>\n",
       "      <td>United Kingdom</td>\n",
       "    </tr>\n",
       "    <tr>\n",
       "      <th>4</th>\n",
       "      <td>20th July 2023</td>\n",
       "      <td>Not Verified |  I'm sure that BA have graduall...</td>\n",
       "      <td>2</td>\n",
       "      <td>United Kingdom</td>\n",
       "    </tr>\n",
       "  </tbody>\n",
       "</table>\n",
       "</div>"
      ],
      "text/plain": [
       "             date                                            reviews u_rating  \\\n",
       "0  21st July 2023  ✅ Trip Verified | A simple story with an unfor...        1   \n",
       "1  21st July 2023  ✅ Trip Verified |  Flight was delayed due to t...        4   \n",
       "2  20th July 2023  Not Verified |  Fast and friendly check in (to...        8   \n",
       "3  20th July 2023  ✅ Trip Verified |  I don't understand why Brit...        2   \n",
       "4  20th July 2023  Not Verified |  I'm sure that BA have graduall...        2   \n",
       "\n",
       "          country  \n",
       "0         Germany  \n",
       "1  United Kingdom  \n",
       "2  United Kingdom  \n",
       "3  United Kingdom  \n",
       "4  United Kingdom  "
      ]
     },
     "execution_count": 18,
     "metadata": {},
     "output_type": "execute_result"
    }
   ],
   "source": [
    "df.head()"
   ]
  },
  {
   "cell_type": "code",
   "execution_count": 19,
   "id": "3dde925e",
   "metadata": {},
   "outputs": [],
   "source": [
    "df.to_csv('British_airways_reviews.csv')"
   ]
  }
 ],
 "metadata": {
  "kernelspec": {
   "display_name": "Python 3 (ipykernel)",
   "language": "python",
   "name": "python3"
  },
  "language_info": {
   "codemirror_mode": {
    "name": "ipython",
    "version": 3
   },
   "file_extension": ".py",
   "mimetype": "text/x-python",
   "name": "python",
   "nbconvert_exporter": "python",
   "pygments_lexer": "ipython3",
   "version": "3.9.13"
  }
 },
 "nbformat": 4,
 "nbformat_minor": 5
}
